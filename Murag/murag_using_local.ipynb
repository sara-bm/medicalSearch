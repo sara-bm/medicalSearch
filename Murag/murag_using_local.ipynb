{
 "cells": [
  {
   "cell_type": "code",
   "execution_count": 1,
   "id": "5e6d0cc1-7aa6-4a7e-8302-f278faccd1e2",
   "metadata": {},
   "outputs": [],
   "source": [
    "# ! pip install langchain langchain-chroma \"unstructured[all-docs]\" pydantic lxml"
   ]
  },
  {
   "cell_type": "code",
   "execution_count": 2,
   "id": "56361cb0-a65f-4f37-bf4c-a1cfa68eefc9",
   "metadata": {},
   "outputs": [],
   "source": [
    "from typing import Any\n",
    "import requests\n",
    "import os\n",
    "from pydantic import BaseModel\n",
    "from unstructured.partition.pdf import partition_pdf\n",
    "\n",
    "# URL of the PDF\n",
    "url = \"https://breast-cancer-research.biomedcentral.com/counter/pdf/10.1186/s13058-025-01973-3.pdf\"\n",
    "\n",
    "# Local file path to save the PDF\n",
    "local_pdf_path = \"temp.pdf\"  \n",
    "\n",
    "# Download the PDF\n",
    "response = requests.get(url, stream=True)\n",
    "with open(local_pdf_path, \"wb\") as pdf_file:\n",
    "    for chunk in response.iter_content(chunk_size=1024):\n",
    "        if chunk:\n",
    "            pdf_file.write(chunk)\n",
    "\n",
    "# Get elements using the local file path\n",
    "raw_pdf_elements = partition_pdf(\n",
    "    filename=local_pdf_path,\n",
    "    # Using pdf format to find embedded image blocks\n",
    "    extract_images_in_pdf=True,\n",
    "    # Use layout model (YOLOX) to get bounding boxes (for tables) and find titles\n",
    "    # Titles are any sub-section of the document\n",
    "    infer_table_structure=True,\n",
    "    # Post processing to aggregate text once we have the title\n",
    "    chunking_strategy=\"by_title\",\n",
    "    # Chunking params to aggregate text blocks\n",
    "    # Attempt to create a new chunk 3800 chars\n",
    "    # Attempt to keep chunks > 2000 chars\n",
    "    # Hard max on chunks\n",
    "    max_characters=4000,\n",
    "    new_after_n_chars=3800,\n",
    "    combine_text_under_n_chars=2000,\n",
    "    image_output_dir_path=os.path.dirname(local_pdf_path), # Save images in the same directory\n",
    ")\n",
    "\n",
    "# Optional: Remove the temporary PDF file\n",
    "# os.remove(local_pdf_path)"
   ]
  },
  {
   "cell_type": "code",
   "execution_count": 3,
   "id": "b78d5e8c-7731-40f4-ad53-57e7ae958164",
   "metadata": {},
   "outputs": [
    {
     "data": {
      "text/plain": [
       "{\"<class 'unstructured.documents.elements.CompositeElement'>\": 21}"
      ]
     },
     "execution_count": 3,
     "metadata": {},
     "output_type": "execute_result"
    }
   ],
   "source": [
    "# Create a dictionary to store counts of each type\n",
    "category_counts = {}\n",
    "\n",
    "for element in raw_pdf_elements:\n",
    "    category = str(type(element))\n",
    "    if category in category_counts:\n",
    "        category_counts[category] += 1\n",
    "    else:\n",
    "        category_counts[category] = 1\n",
    "\n",
    "# Unique_categories will have unique elements\n",
    "# TableChunk if Table > max chars set above\n",
    "unique_categories = set(category_counts.keys())\n",
    "category_counts"
   ]
  },
  {
   "cell_type": "code",
   "execution_count": 4,
   "id": "15d80dcb-7c45-4b5d-9a53-2f7425b186ea",
   "metadata": {},
   "outputs": [
    {
     "name": "stdout",
     "output_type": "stream",
     "text": [
      "0\n",
      "21\n"
     ]
    }
   ],
   "source": [
    "class Element(BaseModel):\n",
    "    type: str\n",
    "    text: Any\n",
    "\n",
    "\n",
    "# Categorize by type\n",
    "categorized_elements = []\n",
    "for element in raw_pdf_elements:\n",
    "    if \"unstructured.documents.elements.Table\" in str(type(element)):\n",
    "        categorized_elements.append(Element(type=\"table\", text=str(element)))\n",
    "    elif \"unstructured.documents.elements.CompositeElement\" in str(type(element)):\n",
    "        categorized_elements.append(Element(type=\"text\", text=str(element)))\n",
    "\n",
    "# Tables\n",
    "table_elements = [e for e in categorized_elements if e.type == \"table\"]\n",
    "print(len(table_elements))\n",
    "\n",
    "# Text\n",
    "text_elements = [e for e in categorized_elements if e.type == \"text\"]\n",
    "print(len(text_elements))"
   ]
  },
  {
   "cell_type": "code",
   "execution_count": 5,
   "id": "ee30d21c-e14f-4000-8b9f-0a6adf19b157",
   "metadata": {},
   "outputs": [],
   "source": [
    "from langchain_community.chat_models import ChatOllama\n",
    "from langchain_core.output_parsers import StrOutputParser\n",
    "from langchain_core.prompts import ChatPromptTemplate"
   ]
  },
  {
   "cell_type": "code",
   "execution_count": 6,
   "id": "af9dff2e-59a8-4d17-9281-d42c3fe84b25",
   "metadata": {},
   "outputs": [
    {
     "name": "stderr",
     "output_type": "stream",
     "text": [
      "C:\\Users\\sarra\\AppData\\Local\\Temp\\ipykernel_18528\\3901182521.py:7: LangChainDeprecationWarning: The class `ChatOllama` was deprecated in LangChain 0.3.1 and will be removed in 1.0.0. An updated version of the class exists in the :class:`~langchain-ollama package and should be used instead. To use it run `pip install -U :class:`~langchain-ollama` and import as `from :class:`~langchain_ollama import ChatOllama``.\n",
      "  model = ChatOllama(base_url=\"http://127.0.0.1:11434\", model=\"llama3\")\n"
     ]
    }
   ],
   "source": [
    "# Prompt\n",
    "prompt_text = \"\"\"You are an assistant tasked with summarizing tables and text. \\\n",
    "Give a concise summary of the table or text. Table or text chunk: {element} \"\"\"\n",
    "prompt = ChatPromptTemplate.from_template(prompt_text)\n",
    "\n",
    "# Summary chain\n",
    "model = ChatOllama(base_url=\"http://127.0.0.1:11434\", model=\"llama3\")\n",
    "summarize_chain = {\"element\": lambda x: x} | prompt | model | StrOutputParser()"
   ]
  },
  {
   "cell_type": "code",
   "execution_count": 7,
   "id": "98f7ff43-11d8-4f5e-8603-4d23c2cbedba",
   "metadata": {},
   "outputs": [],
   "source": [
    "# Apply to text\n",
    "texts = [i.text for i in text_elements if i.text != \"\"]\n",
    "text_summaries = summarize_chain.batch(texts, {\"max_concurrency\": 5})"
   ]
  },
  {
   "cell_type": "code",
   "execution_count": 8,
   "id": "fd9eecdb-a42f-4368-a563-7fef0cf3d226",
   "metadata": {},
   "outputs": [
    {
     "name": "stdout",
     "output_type": "stream",
     "text": [
      "['Here is a concise summary of the text:\\n\\nThe study investigates the role of SMYD4 in breast cancer progression. Researchers found that SMYD4 acts as a tumor suppressor, downregulating its expression being associated with poor prognosis. The study reveals that SMYD4 promotes ubiquitination and degradation of MYH9 through lysine monomethylation modification, thereby inhibiting WNT signaling pathway. This discovery suggests that SMYD4 is a potential therapeutic target for breast cancer treatment.', 'Here is a concise summary of the text:\\n\\nThe article discusses the importance of understanding breast cancer, which is still the leading cause of cancer death in females worldwide despite advances in treatment. The disease is heterogeneous and influenced by multiple factors such as genetics, environment, and hormone levels. Recent research has highlighted the critical role of epigenetic reprogramming in breast cancer progression, metastasis, and therapy resistance. The article then focuses on SMYD4, a protein that has been identified as a potential tumor suppressor in various cancers, including breast cancer. SMYD4 has been shown to play a key role in regulating gene expression and cellular processes, including the conversion of non-cancer stem cells to cancer stem cells. However, the exact mechanism by which SMYD4 contributes to breast cancer remains unclear and requires further investigation.', 'Here is a concise summary of the text:\\n\\nAbnormal Wnt signaling regulation is involved in breast cancer processes such as proliferation, metastasis, stemness maintenance, phenotype shaping, immune microenvironment regulation, and drug resistance. The study aims to investigate how SMYD4 interacts with MYH9 to inhibit nuclear localization of CTNNB1, thereby down-regulating Wnt signaling and its target genes. The results suggest that the SMYD4/MYH9/CTNNB1 axis may play a key role in breast cancer.', 'Here is a concise summary of the text:\\n\\nTwo experts, Yang et al., are working under a light microscope to study breast cancer. They obtained various cell lines from the American Type Culture Collection and cultured them in specific media with fetal bovine serum and penicillin/streptomycin. The researchers used plasmids, vectors, and siRNA kits to transfect cells and generate stable overexpressed cells. They also used lentiviruses to infect CAL-51 cells. The team obtained antibodies from various suppliers for western blot and immunohistochemistry (IHC) experiments.', 'Here is a concise summary of the text:\\n\\nThe protocol describes methods for isolating total RNA from cells using Rapid cellular RNA extraction kit, measuring RNA quality and concentration using NanoDrop 2000, and performing RT-qPCR with All-in-One First Strand cDNA Synthesis SuperMix. Additionally, it outlines procedures for cell proliferation assays (CCK8, colony formation, EdU), migration/invasion assays (Matrigel-coated Transwell, cell scratch), and measurements using various instruments such as microplate readers, fluorescence microscopes, and light microscopes.', 'Here is a concise summary of the text chunk:\\n\\nThe text describes various methods used for cellular analysis, including:\\n\\n* Apoptosis assay: cells stained with Annexin V and analyzed by flow cytometry\\n* Western blotting and immunofluorescence (IF): SDS-PAGE electrophoresis followed by immunoblotting and visualization using an ECL reagent\\n* Co-immunoprecipitation (Co-IP) and protein identification: immunoprecipitation with specific antibodies, agarose bead washes, and mass spectrometry for protein identification\\n\\nThese methods were used to analyze the interaction between proteins SMYD4, MYH9, Flag, HIS, HA, and IgG in breast cancer cells.', \"Here is a concise summary of the text:\\n\\nThe study describes the methods used to investigate the role of SMYD4 in breast cancer. This includes:\\n\\n1. Chromatin immunoprecipitation (ChIP) analysis: The ChIP assay was performed according to manufacturer's instructions, and primers used are listed in Supplementary information.\\n2. TOP/FOP assay: The Dual-Luciferase Reporter Assay Kit was used to detect firefly and Renilla luciferase activities.\\n3. Xenograft: Stable SMYD4-overexpressed CAL-51 cells were injected into mammary fat pads of mice, and tumour growth was recorded for 6 weeks.\\n4. Statistics and analysis: Prism 9 software was used for data visualization and analysis, including Student's t-test and Pearson correlation analysis.\\n\\nThe study also collected clinical data and gene expression profiles from databases such as The Cancer Genome Atlas, The Genotype-Tissue Expression Project, and METABRIC.\", 'Here is a concise summary of the text:\\n\\nThe study investigates the potential correlation between SMYD4 gene expression and breast cancer progression. The results show that SMYD4 expression is significantly downregulated in breast cancer tissues and cell lines compared to normal breast cells. High SMYD4 expression levels are associated with better prognosis, but only for distant metastasis-free survival (DMFS) and recurrence-free survival (RFS), not overall survival (OS). Additionally, SMYD4 overexpression inhibits breast cancer cell proliferation and invasion, suggesting that it may have a tumor-suppressive role in breast cancer.', 'Here is a concise summary of the text:\\n\\nSMYD4, a protein, was found to have anti-tumor effects on breast cancer cells. Overexpression of SMYD4 led to reduced cell migration and invasion, as well as increased apoptosis (cell death). In contrast, knockdown of SMYD4 promoted epithelial-mesenchymal transition (EMT) and increased cell invasiveness. Furthermore, in vivo studies showed that SMYD4 overexpressed cells had reduced tumor proliferation. Overall, these results suggest that SMYD4 can inhibit breast cancer proliferation and invasion.', 'Here is a concise summary of the table/chunk:\\n\\nThe study investigates the protein interactions of SMYD4, a gene previously linked to cancer. Through immunoprecipitation and mass spectrometry, researchers identified 349 proteins binding to SMYD4, with MYH9 being the top interaction. Further analysis using software predicted a protein-binding model between SMYD4 and MYH9. Immunofluorescence experiments confirmed the colocalization of SMYD4 and MYH9 in breast cancer cells. Endogenous and exogenous co-immunoprecipitation (coIP) assays verified the direct interaction between SMYD4 and MYH9 at the protein level.', 'Here is a concise summary of the text:\\n\\nSMYD4 protein inhibits the Wnt signaling pathway by downregulating genes involved in blood vessel morphogenesis and epithelial development. RNAseq analysis showed that SMYD4 overexpression led to the upregulation of 277 genes and downregulation of 408 genes, with enrichment in endoplasmic reticulum lumen and blood vessel morphogenesis. GSEA analysis revealed that the Wnt signaling pathway was significantly inhibited by SMYD4 overexpression. Further experiments showed that SMYD4 decreased nuclear localization of β-catenin and reduced expression of downstream target genes including MYH9, N-cadherin, Vimentin, C-myc, CyclinD1, and Survivin proteins. Overall, SMYD4 acts by inhibiting the Wnt signaling pathway to regulate gene expression.', 'Here is a concise summary of the text chunk related to cytoplasm:\\n\\nThe figure shows the expression level of β-catenin in the nucleus and cytoplasm detected by nucleocytoplasmic separation western blot. The results indicate that SMYD4 overexpression decreases the nuclear localization of β-catenin, suggesting that it inhibits Wnt signaling.', 'Here is a concise summary of the text:\\n\\nThe study investigates the role of MYH9 in rescuing the function of SMYD4 in breast cancer cells. Overexpression of MYH9 reverses the inhibition of clone formation rate and EDU positivity in SMYD4-overexpressed cells, while knockdown of MYH9 rescues the facilitation of cell invasion after SMYD4 knockdown. Additionally, MYH9 overexpression rescues SMYD4-induced changes in the WNT signaling pathway. The study also shows that truncated SMYD4 (SMYD4 delTPR) is unable to exert an inhibitory effect on cell proliferation and invasiveness, confirming the importance of the TPR domain in SMYD4 function.', 'Here is a concise summary of the transwell and scratch assays (Fig. 5C-F):\\n\\nThe study shows that:\\n\\n* MYH9 overexpression or knockdown restores nuclear localization of β-catenin\\n* Adding MYH9 reverses changes in TOP/FOP luciferase activity caused by SMYD4 overexpression or knockdown\\n* WNT pathway-related proteins (N-cadherin, Vimentin, C-myc, Cyclin D1, and survivin) are rescued after MYH9 overexpression or knockdown\\n* SMYD4 delTPR no longer inhibits MYH9 expression and rescues effects on β-catenin nuclear localization and TOP/FOP luciferase activity.\\n\\nIn summary, the study demonstrates that SMYD4 binds to the Ccoil domain of MYH9 through its TPR domain, regulating the WNT signaling pathway.', 'Here is a concise summary of the text:\\n\\nThe MYH9 protein was found to be directly bound by SMYD4, with the C-terminal coiled coil (IQCcoil) domain being the specific binding site. SMYD4 overexpression increased the mono-methylation level of MYH9 but not di- or tri-methylation, and knockdown of SMYD4 reduced the mono-methylation level of MYH9. Protein stability assays showed that SMYD4 overexpression led to faster degradation of MYH9 protein. The study suggests that SMYD4 promotes the degradation of MYH9 through ubiquitination, as evidenced by the increase in MG132-induced ubiquitination of MYH9 in SMYD4-overexpressed cells.', 'Here is a concise summary of the text:\\n\\nThis study investigates the regulation of the SMYD4, MYH9, CTNNB1, and WNT pathways in breast cancer progression. The results show that SMYD4 overexpression reduces MYH9 protein function by decreasing its lysine monomethylation level, leading to increased CTNNB1 transcriptional activity and activation of the WNT signaling pathway. This promotes breast cancer cell proliferation and invasiveness. The study also finds that MYH9 is degraded via the proteasome pathway and that SMYD4 regulates MYH9 ubiquitination and binding to the CTNNB1 promoter region. Overall, this research elucidates the mechanism of the SMYD4/MYH9/CTNNB1/WNT axis in breast cancer and suggests potential therapeutic targets for treatment.', 'Here is a concise summary of the text:\\n\\nThe study discusses the role of SMYD4 in breast cancer treatment. SMYD4, a member of the lysine methyltransferase family, has a unique N-terminal TPR domain that interacts with downstream MYH9. The interaction between SMYD4 and MYH9 prevents MYH9 from binding to the CTNNB1 promoter, inhibiting the WNT pathway and preventing breast cancer progression. The study also highlights the importance of post-translational modification (PTM), specifically non-histone lysine methylation modifications, in regulating biological processes.', 'Here is a concise summary of the investigation:\\n\\nThe study identified SMYD4 as a tumor suppressor that regulates MYH9 and prevents its binding to CTNNB1, thereby decreasing nuclear localization of β-catenin. This disruption leads to reduced expression of proteins downstream of the Wnt/β-catenin signaling pathway. The findings suggest that the SMYD4/MYH9/CTNNB1/Wnt axis may be a new target for breast cancer treatment.', 'Here is a concise summary of the references:\\n\\nThe references provided are a list of scientific articles and studies related to breast cancer, including its diagnosis, treatment, and prognosis. The topics covered include:\\n\\n* Cancer statistics for 2024\\n* Breast cancer treatment options and outcomes\\n* Epigenetic regulation of breast cancer metastasis\\n* Role of p53 in breast cancer progression\\n* STAT family of transcription factors in breast cancer\\n* Pathogenesis of triple-negative breast cancer\\n* Prognostic models for triple-negative breast cancer\\n* Genetic alterations and tumor suppressor genes involved in breast cancer development\\n* Wnt signaling in breast cancer\\n* Cellular heterogeneity and omics reprogramming in breast cancer\\n\\nOverall, the references provide a comprehensive overview of current research on breast cancer, including its diagnosis, treatment, and prognosis.', \"After summarizing the tables and text, here are the key points:\\n\\n**Tables/Text:**\\n\\n* The articles primarily discuss breast cancer, its molecular definition, and the roles of specific genes (e.g., WNT5B, SMYD5) in breast tumor heterogeneity.\\n* Other topics include the genomic and transcriptomic architecture of breast tumors, the SMYD family proteins' functions in immunology and pathology, and the significance of histone modification-associated genes in gastric cancer.\\n* Some articles focus on individual genes/proteins (e.g., MYH9, myosin IIa), their roles in tumor progression, and potential therapeutic targets.\\n\\n**Summary:**\\n\\nThe provided tables and text primarily concern breast cancer research, focusing on the molecular definition of breast tumor heterogeneity, the roles of specific genes (WNT5B, SMYD5) in basal-like breast cancer, and the significance of histone modification-associated genes in gastric cancer. Other topics include the SMYD family proteins' functions in immunology and pathology, as well as individual gene/protein studies on MYH9 and myosin IIa.\", 'Here is a concise summary of the text chunk:\\n\\nThis section appears to be a list of references (citations) related to cancer research, specifically focusing on molecular biology and signaling pathways. The references include journal articles discussing various proteins and genes, such as CXCR4, MYH9, CTNNB1, OLFM4, MYH14, and GSK3beta, and their roles in cancer development, progression, and treatment.']\n"
     ]
    }
   ],
   "source": [
    "print(text_summaries)"
   ]
  },
  {
   "cell_type": "code",
   "execution_count": 9,
   "id": "0f84f91a-96c4-44e4-ac85-e172c1b698be",
   "metadata": {},
   "outputs": [],
   "source": [
    "# Apply to tables\n",
    "tables = [i.text for i in table_elements]\n",
    "table_summaries = summarize_chain.batch(tables, {\"max_concurrency\": 5})"
   ]
  },
  {
   "cell_type": "code",
   "execution_count": 10,
   "id": "d33f5b38-7535-4a3e-ab04-21fee40d8ff5",
   "metadata": {},
   "outputs": [
    {
     "ename": "FileNotFoundError",
     "evalue": "[WinError 2] Le fichier spécifié est introuvable",
     "output_type": "error",
     "traceback": [
      "\u001b[1;31m---------------------------------------------------------------------------\u001b[0m",
      "\u001b[1;31mFileNotFoundError\u001b[0m                         Traceback (most recent call last)",
      "Cell \u001b[1;32mIn[10], line 35\u001b[0m\n\u001b[0;32m     33\u001b[0m \u001b[38;5;66;03m# Run the command and save output\u001b[39;00m\n\u001b[0;32m     34\u001b[0m \u001b[38;5;28;01mwith\u001b[39;00m \u001b[38;5;28mopen\u001b[39m(output_file, \u001b[38;5;124m\"\u001b[39m\u001b[38;5;124mw\u001b[39m\u001b[38;5;124m\"\u001b[39m) \u001b[38;5;28;01mas\u001b[39;00m f:\n\u001b[1;32m---> 35\u001b[0m     \u001b[43msubprocess\u001b[49m\u001b[38;5;241;43m.\u001b[39;49m\u001b[43mrun\u001b[49m\u001b[43m(\u001b[49m\u001b[43mcommand\u001b[49m\u001b[43m,\u001b[49m\u001b[43m \u001b[49m\u001b[43mstdout\u001b[49m\u001b[38;5;241;43m=\u001b[39;49m\u001b[43mf\u001b[49m\u001b[43m,\u001b[49m\u001b[43m \u001b[49m\u001b[43mtext\u001b[49m\u001b[38;5;241;43m=\u001b[39;49m\u001b[38;5;28;43;01mTrue\u001b[39;49;00m\u001b[43m)\u001b[49m\n\u001b[0;32m     37\u001b[0m \u001b[38;5;28mprint\u001b[39m(\u001b[38;5;124mf\u001b[39m\u001b[38;5;124m\"\u001b[39m\u001b[38;5;124mProcessed \u001b[39m\u001b[38;5;132;01m{\u001b[39;00mimg\u001b[38;5;132;01m}\u001b[39;00m\u001b[38;5;124m -> \u001b[39m\u001b[38;5;132;01m{\u001b[39;00moutput_file\u001b[38;5;132;01m}\u001b[39;00m\u001b[38;5;124m\"\u001b[39m)\n",
      "File \u001b[1;32mC:\\Program Files\\WindowsApps\\PythonSoftwareFoundation.Python.3.9_3.9.3568.0_x64__qbz5n2kfra8p0\\lib\\subprocess.py:505\u001b[0m, in \u001b[0;36mrun\u001b[1;34m(input, capture_output, timeout, check, *popenargs, **kwargs)\u001b[0m\n\u001b[0;32m    502\u001b[0m     kwargs[\u001b[38;5;124m'\u001b[39m\u001b[38;5;124mstdout\u001b[39m\u001b[38;5;124m'\u001b[39m] \u001b[38;5;241m=\u001b[39m PIPE\n\u001b[0;32m    503\u001b[0m     kwargs[\u001b[38;5;124m'\u001b[39m\u001b[38;5;124mstderr\u001b[39m\u001b[38;5;124m'\u001b[39m] \u001b[38;5;241m=\u001b[39m PIPE\n\u001b[1;32m--> 505\u001b[0m \u001b[38;5;28;01mwith\u001b[39;00m Popen(\u001b[38;5;241m*\u001b[39mpopenargs, \u001b[38;5;241m*\u001b[39m\u001b[38;5;241m*\u001b[39mkwargs) \u001b[38;5;28;01mas\u001b[39;00m process:\n\u001b[0;32m    506\u001b[0m     \u001b[38;5;28;01mtry\u001b[39;00m:\n\u001b[0;32m    507\u001b[0m         stdout, stderr \u001b[38;5;241m=\u001b[39m process\u001b[38;5;241m.\u001b[39mcommunicate(\u001b[38;5;28minput\u001b[39m, timeout\u001b[38;5;241m=\u001b[39mtimeout)\n",
      "File \u001b[1;32mC:\\Program Files\\WindowsApps\\PythonSoftwareFoundation.Python.3.9_3.9.3568.0_x64__qbz5n2kfra8p0\\lib\\subprocess.py:951\u001b[0m, in \u001b[0;36mPopen.__init__\u001b[1;34m(self, args, bufsize, executable, stdin, stdout, stderr, preexec_fn, close_fds, shell, cwd, env, universal_newlines, startupinfo, creationflags, restore_signals, start_new_session, pass_fds, user, group, extra_groups, encoding, errors, text, umask)\u001b[0m\n\u001b[0;32m    947\u001b[0m         \u001b[38;5;28;01mif\u001b[39;00m \u001b[38;5;28mself\u001b[39m\u001b[38;5;241m.\u001b[39mtext_mode:\n\u001b[0;32m    948\u001b[0m             \u001b[38;5;28mself\u001b[39m\u001b[38;5;241m.\u001b[39mstderr \u001b[38;5;241m=\u001b[39m io\u001b[38;5;241m.\u001b[39mTextIOWrapper(\u001b[38;5;28mself\u001b[39m\u001b[38;5;241m.\u001b[39mstderr,\n\u001b[0;32m    949\u001b[0m                     encoding\u001b[38;5;241m=\u001b[39mencoding, errors\u001b[38;5;241m=\u001b[39merrors)\n\u001b[1;32m--> 951\u001b[0m     \u001b[38;5;28;43mself\u001b[39;49m\u001b[38;5;241;43m.\u001b[39;49m\u001b[43m_execute_child\u001b[49m\u001b[43m(\u001b[49m\u001b[43margs\u001b[49m\u001b[43m,\u001b[49m\u001b[43m \u001b[49m\u001b[43mexecutable\u001b[49m\u001b[43m,\u001b[49m\u001b[43m \u001b[49m\u001b[43mpreexec_fn\u001b[49m\u001b[43m,\u001b[49m\u001b[43m \u001b[49m\u001b[43mclose_fds\u001b[49m\u001b[43m,\u001b[49m\n\u001b[0;32m    952\u001b[0m \u001b[43m                        \u001b[49m\u001b[43mpass_fds\u001b[49m\u001b[43m,\u001b[49m\u001b[43m \u001b[49m\u001b[43mcwd\u001b[49m\u001b[43m,\u001b[49m\u001b[43m \u001b[49m\u001b[43menv\u001b[49m\u001b[43m,\u001b[49m\n\u001b[0;32m    953\u001b[0m \u001b[43m                        \u001b[49m\u001b[43mstartupinfo\u001b[49m\u001b[43m,\u001b[49m\u001b[43m \u001b[49m\u001b[43mcreationflags\u001b[49m\u001b[43m,\u001b[49m\u001b[43m \u001b[49m\u001b[43mshell\u001b[49m\u001b[43m,\u001b[49m\n\u001b[0;32m    954\u001b[0m \u001b[43m                        \u001b[49m\u001b[43mp2cread\u001b[49m\u001b[43m,\u001b[49m\u001b[43m \u001b[49m\u001b[43mp2cwrite\u001b[49m\u001b[43m,\u001b[49m\n\u001b[0;32m    955\u001b[0m \u001b[43m                        \u001b[49m\u001b[43mc2pread\u001b[49m\u001b[43m,\u001b[49m\u001b[43m \u001b[49m\u001b[43mc2pwrite\u001b[49m\u001b[43m,\u001b[49m\n\u001b[0;32m    956\u001b[0m \u001b[43m                        \u001b[49m\u001b[43merrread\u001b[49m\u001b[43m,\u001b[49m\u001b[43m \u001b[49m\u001b[43merrwrite\u001b[49m\u001b[43m,\u001b[49m\n\u001b[0;32m    957\u001b[0m \u001b[43m                        \u001b[49m\u001b[43mrestore_signals\u001b[49m\u001b[43m,\u001b[49m\n\u001b[0;32m    958\u001b[0m \u001b[43m                        \u001b[49m\u001b[43mgid\u001b[49m\u001b[43m,\u001b[49m\u001b[43m \u001b[49m\u001b[43mgids\u001b[49m\u001b[43m,\u001b[49m\u001b[43m \u001b[49m\u001b[43muid\u001b[49m\u001b[43m,\u001b[49m\u001b[43m \u001b[49m\u001b[43mumask\u001b[49m\u001b[43m,\u001b[49m\n\u001b[0;32m    959\u001b[0m \u001b[43m                        \u001b[49m\u001b[43mstart_new_session\u001b[49m\u001b[43m)\u001b[49m\n\u001b[0;32m    960\u001b[0m \u001b[38;5;28;01mexcept\u001b[39;00m:\n\u001b[0;32m    961\u001b[0m     \u001b[38;5;66;03m# Cleanup if the child failed starting.\u001b[39;00m\n\u001b[0;32m    962\u001b[0m     \u001b[38;5;28;01mfor\u001b[39;00m f \u001b[38;5;129;01min\u001b[39;00m \u001b[38;5;28mfilter\u001b[39m(\u001b[38;5;28;01mNone\u001b[39;00m, (\u001b[38;5;28mself\u001b[39m\u001b[38;5;241m.\u001b[39mstdin, \u001b[38;5;28mself\u001b[39m\u001b[38;5;241m.\u001b[39mstdout, \u001b[38;5;28mself\u001b[39m\u001b[38;5;241m.\u001b[39mstderr)):\n",
      "File \u001b[1;32mC:\\Program Files\\WindowsApps\\PythonSoftwareFoundation.Python.3.9_3.9.3568.0_x64__qbz5n2kfra8p0\\lib\\subprocess.py:1420\u001b[0m, in \u001b[0;36mPopen._execute_child\u001b[1;34m(self, args, executable, preexec_fn, close_fds, pass_fds, cwd, env, startupinfo, creationflags, shell, p2cread, p2cwrite, c2pread, c2pwrite, errread, errwrite, unused_restore_signals, unused_gid, unused_gids, unused_uid, unused_umask, unused_start_new_session)\u001b[0m\n\u001b[0;32m   1418\u001b[0m \u001b[38;5;66;03m# Start the process\u001b[39;00m\n\u001b[0;32m   1419\u001b[0m \u001b[38;5;28;01mtry\u001b[39;00m:\n\u001b[1;32m-> 1420\u001b[0m     hp, ht, pid, tid \u001b[38;5;241m=\u001b[39m \u001b[43m_winapi\u001b[49m\u001b[38;5;241;43m.\u001b[39;49m\u001b[43mCreateProcess\u001b[49m\u001b[43m(\u001b[49m\u001b[43mexecutable\u001b[49m\u001b[43m,\u001b[49m\u001b[43m \u001b[49m\u001b[43margs\u001b[49m\u001b[43m,\u001b[49m\n\u001b[0;32m   1421\u001b[0m \u001b[43m                             \u001b[49m\u001b[38;5;66;43;03m# no special security\u001b[39;49;00m\n\u001b[0;32m   1422\u001b[0m \u001b[43m                             \u001b[49m\u001b[38;5;28;43;01mNone\u001b[39;49;00m\u001b[43m,\u001b[49m\u001b[43m \u001b[49m\u001b[38;5;28;43;01mNone\u001b[39;49;00m\u001b[43m,\u001b[49m\n\u001b[0;32m   1423\u001b[0m \u001b[43m                             \u001b[49m\u001b[38;5;28;43mint\u001b[39;49m\u001b[43m(\u001b[49m\u001b[38;5;129;43;01mnot\u001b[39;49;00m\u001b[43m \u001b[49m\u001b[43mclose_fds\u001b[49m\u001b[43m)\u001b[49m\u001b[43m,\u001b[49m\n\u001b[0;32m   1424\u001b[0m \u001b[43m                             \u001b[49m\u001b[43mcreationflags\u001b[49m\u001b[43m,\u001b[49m\n\u001b[0;32m   1425\u001b[0m \u001b[43m                             \u001b[49m\u001b[43menv\u001b[49m\u001b[43m,\u001b[49m\n\u001b[0;32m   1426\u001b[0m \u001b[43m                             \u001b[49m\u001b[43mcwd\u001b[49m\u001b[43m,\u001b[49m\n\u001b[0;32m   1427\u001b[0m \u001b[43m                             \u001b[49m\u001b[43mstartupinfo\u001b[49m\u001b[43m)\u001b[49m\n\u001b[0;32m   1428\u001b[0m \u001b[38;5;28;01mfinally\u001b[39;00m:\n\u001b[0;32m   1429\u001b[0m     \u001b[38;5;66;03m# Child is launched. Close the parent's copy of those pipe\u001b[39;00m\n\u001b[0;32m   1430\u001b[0m     \u001b[38;5;66;03m# handles that only the child should have open.  You need\u001b[39;00m\n\u001b[1;32m   (...)\u001b[0m\n\u001b[0;32m   1433\u001b[0m     \u001b[38;5;66;03m# pipe will not close when the child process exits and the\u001b[39;00m\n\u001b[0;32m   1434\u001b[0m     \u001b[38;5;66;03m# ReadFile will hang.\u001b[39;00m\n\u001b[0;32m   1435\u001b[0m     \u001b[38;5;28mself\u001b[39m\u001b[38;5;241m.\u001b[39m_close_pipe_fds(p2cread, p2cwrite,\n\u001b[0;32m   1436\u001b[0m                          c2pread, c2pwrite,\n\u001b[0;32m   1437\u001b[0m                          errread, errwrite)\n",
      "\u001b[1;31mFileNotFoundError\u001b[0m: [WinError 2] Le fichier spécifié est introuvable"
     ]
    }
   ],
   "source": [
    "import os\n",
    "import subprocess\n",
    "\n",
    "# Define the directory containing the images\n",
    "IMG_DIR = r\"C:\\Users\\sarra\\OneDrive\\Bureau\\PFE\\Bootcamp\\Challenge 2\\Medical-Reasearch-papers\\Qa-Bot\\figures\"  # Change to your actual path\n",
    "\n",
    "# Get all .jpg images in the directory\n",
    "images = [f for f in os.listdir(IMG_DIR) if f.endswith(\".jpg\")]\n",
    "\n",
    "# Define the path to your LLaVA executable\n",
    "llava_cmd = r\"C:\\Users\\YourUsername\\Desktop\\Code\\llama.cpp\\bin\\llava.exe\"\n",
    "\n",
    "# Define the model paths\n",
    "model_path = r\"..\\models\\llava-7b\\ggml-model-q5_k.gguf\"\n",
    "mmproj_path = r\"..\\models\\llava-7b\\mmproj-model-f16.gguf\"\n",
    "\n",
    "# Loop through each image\n",
    "for img in images:\n",
    "    img_path = os.path.join(IMG_DIR, img)\n",
    "    base_name = os.path.splitext(img)[0]  # Get filename without extension\n",
    "    output_file = os.path.join(IMG_DIR, f\"{base_name}.txt\")\n",
    "\n",
    "    # Construct the command\n",
    "    command = [\n",
    "        llava_cmd,\n",
    "        \"-m\", model_path,\n",
    "        \"--mmproj\", mmproj_path,\n",
    "        \"--temp\", \"0.1\",\n",
    "        \"-p\", \"Describe the image in detail. Be specific about graphs, such as bar plots.\",\n",
    "        \"--image\", img_path\n",
    "    ]\n",
    "\n",
    "    # Run the command and save output\n",
    "    with open(output_file, \"w\") as f:\n",
    "        subprocess.run(command, stdout=f, text=True)\n",
    "\n",
    "    print(f\"Processed {img} -> {output_file}\")\n"
   ]
  },
  {
   "cell_type": "code",
   "execution_count": null,
   "id": "7c1cff70-67ba-4fdf-a90c-91719309cdf7",
   "metadata": {},
   "outputs": [],
   "source": []
  }
 ],
 "metadata": {
  "kernelspec": {
   "display_name": "Python 3 (ipykernel)",
   "language": "python",
   "name": "python3"
  },
  "language_info": {
   "codemirror_mode": {
    "name": "ipython",
    "version": 3
   },
   "file_extension": ".py",
   "mimetype": "text/x-python",
   "name": "python",
   "nbconvert_exporter": "python",
   "pygments_lexer": "ipython3",
   "version": "3.9.13"
  }
 },
 "nbformat": 4,
 "nbformat_minor": 5
}
